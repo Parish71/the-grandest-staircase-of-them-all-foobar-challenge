{
 "cells": [
  {
   "cell_type": "code",
   "execution_count": 1,
   "id": "11891419",
   "metadata": {},
   "outputs": [],
   "source": [
    "def count_ways_to_climb_stairs(n):\n",
    "    if not isinstance(n, int) or n < 0:\n",
    "        raise ValueError(\"Input n must be a non-negative integer.\")\n",
    "\n",
    "    # Create a 2D array to store the number of ways for each step and left steps\n",
    "    ways = [[0 for _ in range(n + 1)] for _ in range(n + 1)]\n",
    "    ways[0][0] = 1  # Base case: 1 way to climb 0 steps with 0 left\n",
    "\n",
    "    for stair in range(1, n + 1):\n",
    "        for left in range(0, n + 1):\n",
    "            ways[stair][left] = ways[stair - 1][left]\n",
    "\n",
    "            if left >= stair:\n",
    "                ways[stair][left] += ways[stair - 1][left - stair]\n",
    "\n",
    "    return ways[n][n]"
   ]
  },
  {
   "cell_type": "code",
   "execution_count": null,
   "id": "df247280",
   "metadata": {},
   "outputs": [],
   "source": [
    "def count_ways_to_climb_stairs(n):\n",
    "    if not isinstance(n, int) or n < 0:\n",
    "        raise ValueError(\"Input n must be a non-negative integer.\")\n",
    "\n",
    "    # Create a 2D array to store the number of ways for each step and left steps\n",
    "    ways = [[0 for _ in range(n + 1)] for _ in range(n + 1)]\n",
    "    ways[0][0] = 1  # Base case: 1 way to climb 0 steps with 0 left\n",
    "\n",
    "    for stair in range(1, n + 1):\n",
    "        for left in range(0, n + 1):\n",
    "            ways[stair][left] = ways[stair - 1][left]\n",
    "\n",
    "            if left >= stair:\n",
    "                ways[stair][left] += ways[stair - 1][left - stair]\n",
    "\n",
    "    return ways[n][n]\n",
    "\n",
    "def solution(n):\n",
    "    # Make sure n is within the valid range (3 <= n <= 200)\n",
    "    if n < 3 or n > 200:\n",
    "        raise ValueError(\"n must be between 3 and 200, inclusive.\")\n",
    "    \n",
    "    # Calculate the number of different staircases that can be built from n bricks\n",
    "    return count_ways_to_climb_stairs(n) - 1"
   ]
  }
 ],
 "metadata": {
  "kernelspec": {
   "display_name": "Python 3 (ipykernel)",
   "language": "python",
   "name": "python3"
  },
  "language_info": {
   "codemirror_mode": {
    "name": "ipython",
    "version": 3
   },
   "file_extension": ".py",
   "mimetype": "text/x-python",
   "name": "python",
   "nbconvert_exporter": "python",
   "pygments_lexer": "ipython3",
   "version": "3.9.13"
  }
 },
 "nbformat": 4,
 "nbformat_minor": 5
}
