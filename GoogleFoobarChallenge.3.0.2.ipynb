{
 "cells": [
  {
   "cell_type": "code",
   "execution_count": 41,
   "id": "c9403fa4",
   "metadata": {},
   "outputs": [
    {
     "name": "stdout",
     "output_type": "stream",
     "text": [
      "['2.0.0', '1.2', '1.11', '2', '1.2.1', '1.1.1', '0.1', '2.0']\n"
     ]
    }
   ],
   "source": [
    "def bubble_sort(arr):\n",
    "    n = len(arr)\n",
    "    if n <= 1:\n",
    "        return arr\n",
    "    \n",
    "    \n",
    "    # Traverse through all array elements\n",
    "    for i in range(n-1):\n",
    "        \n",
    "        # Last i elements are already in place\n",
    "        # After each iteration, the largest unsorted element bubbles up to the end\n",
    "        for j in range(n):\n",
    "            \n",
    "            \n",
    "            d = len(arr[i].split(\".\"))\n",
    "            f = len(arr[j].split(\".\"))\n",
    "            v = abs(3 + (-d -f))\n",
    "            \n",
    "            for x in range(v):\n",
    "                if int(arr[i].split(\".\")[x]) > int(arr[j].split(\".\")[x]):\n",
    "                    arr[i], arr[j] = arr[j], arr[i]\n",
    "                    break\n",
    "                elif int(arr[i].split(\".\")[x]) < int(arr[j].split(\".\")[x]):\n",
    "                    break\n",
    "    return arr\n",
    "    \n",
    "def solution(l):\n",
    "    print(bubble_sort(l))\n",
    "\n",
    "solution([\"1.11\", \"2.0.0\", \"1.2\", \"2\", \"0.1\", \"1.2.1\", \"1.1.1\", \"2.0\"])\n"
   ]
  },
  {
   "cell_type": "code",
   "execution_count": 49,
   "id": "297b927e",
   "metadata": {},
   "outputs": [
    {
     "name": "stdout",
     "output_type": "stream",
     "text": [
      "['0.1', '1.1.1', '1.2', '1.2.1', '1.11', '2', '2.0', '2.0.0']\n",
      "['1.0', '1.0.2', '1.0.12', '1.1.2', '1.3.3']\n"
     ]
    }
   ],
   "source": [
    "def bubble_sort(arr):\n",
    "    n = len(arr)\n",
    "    if n <= 1:\n",
    "        return arr\n",
    "\n",
    "    for i in range(n-1):\n",
    "        for j in range(n-1-i):\n",
    "            components_j = arr[j].split(\".\")\n",
    "            components_j1 = arr[j+1].split(\".\")\n",
    "            \n",
    "            min_len = min(len(components_j), len(components_j1))\n",
    "            for k in range(min_len):\n",
    "                if int(components_j[k]) > int(components_j1[k]):\n",
    "                    arr[j], arr[j+1] = arr[j+1], arr[j]\n",
    "                    break\n",
    "                elif int(components_j[k]) < int(components_j1[k]):\n",
    "                    break\n",
    "            else:\n",
    "                if len(components_j) > len(components_j1):\n",
    "                    arr[j], arr[j+1] = arr[j+1], arr[j]\n",
    "    \n",
    "    return arr\n",
    "\n",
    "def solution(l):\n",
    "    bubble_sorted_list = bubble_sort(l)\n",
    "    print(bubble_sorted_list)\n",
    "\n",
    "solution([\"1.11\", \"2.0.0\", \"1.2\", \"2\", \"0.1\", \"1.2.1\", \"1.1.1\", \"2.0\"])\n",
    "solution([\"1.1.2\", \"1.0\", \"1.3.3\", \"1.0.12\", \"1.0.2\"])"
   ]
  },
  {
   "cell_type": "code",
   "execution_count": 53,
   "id": "038aed85",
   "metadata": {},
   "outputs": [
    {
     "name": "stdout",
     "output_type": "stream",
     "text": [
      "0.1,1.1.1,1.2,1.2.1,1.11,2,2.0,2.0.0\n"
     ]
    }
   ],
   "source": [
    "def bubble_sort(arr):\n",
    "    n = len(arr)\n",
    "    if n <= 1:\n",
    "        return arr\n",
    "\n",
    "    for i in range(n-1):\n",
    "        for j in range(n-1-i):\n",
    "            components_j = arr[j].split(\".\")\n",
    "            components_j1 = arr[j+1].split(\".\")\n",
    "            \n",
    "            min_len = min(len(components_j), len(components_j1))\n",
    "            k = 0\n",
    "            while k < min_len:\n",
    "                if int(components_j[k]) > int(components_j1[k]):\n",
    "                    arr[j], arr[j+1] = arr[j+1], arr[j]\n",
    "                    break\n",
    "                elif int(components_j[k]) < int(components_j1[k]):\n",
    "                    break\n",
    "                k += 1\n",
    "            else:\n",
    "                if len(components_j) > len(components_j1):\n",
    "                    arr[j], arr[j+1] = arr[j+1], arr[j]\n",
    "    \n",
    "    return arr\n",
    "\n",
    "def solution(l):\n",
    "    bubble_sorted_list = bubble_sort(l)\n",
    "    print(\",\".join(bubble_sorted_list))\n",
    "\n",
    "\n",
    "solution([\"1.11\", \"2.0.0\", \"1.2\", \"2\", \"0.1\", \"1.2.1\", \"1.1.1\", \"2.0\"])\n"
   ]
  },
  {
   "cell_type": "code",
   "execution_count": null,
   "id": "fd1b7b71",
   "metadata": {},
   "outputs": [],
   "source": []
  }
 ],
 "metadata": {
  "kernelspec": {
   "display_name": "Python 3 (ipykernel)",
   "language": "python",
   "name": "python3"
  },
  "language_info": {
   "codemirror_mode": {
    "name": "ipython",
    "version": 3
   },
   "file_extension": ".py",
   "mimetype": "text/x-python",
   "name": "python",
   "nbconvert_exporter": "python",
   "pygments_lexer": "ipython3",
   "version": "3.9.13"
  }
 },
 "nbformat": 4,
 "nbformat_minor": 5
}
