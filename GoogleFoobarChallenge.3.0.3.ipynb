{
 "cells": [
  {
   "cell_type": "code",
   "execution_count": null,
   "id": "c9dec94f",
   "metadata": {},
   "outputs": [],
   "source": [
    "from fractions \n",
    "import Fraction  # Import the Fraction class from the fractions module\n",
    "\n",
    "def gcd(a, b):\n",
    "    while b:\n",
    "        a, b = b, a % b  # Calculate the greatest common divisor (GCD) using Euclid's algorithm\n",
    "    return a\n",
    "\n",
    "def lcm(a, b):\n",
    "    return a * b // gcd(a, b)  # Calculate the least common multiple (LCM) using the GCD\n",
    "\n",
    "def solution(m):\n",
    "    n = len(m)  # Get the number of states\n",
    "    terminal_states = [i for i in range(n) if sum(m[i]) == 0]  # Find the terminal states (states with no outgoing transitions)\n",
    "    probabilities = [Fraction(0) for _ in range(n)]  # Initialize the probabilities for each state to 0\n",
    "    probabilities[0] = Fraction(1)  # Start in state 0 with a probability of 1\n",
    "\n",
    "    for _ in range(n):  # Perform n iterations (maximum number of iterations to reach stable state)\n",
    "        updated = False\n",
    "        new_probabilities = probabilities[:]  # Create a copy of the probabilities list\n",
    "\n",
    "        for i in range(n):  # Iterate over each state\n",
    "            if i in terminal_states or probabilities[i] == 0:  # Skip terminal states and states with probability 0\n",
    "                continue\n",
    "\n",
    "            num_transitions = sum(m[i])  # Calculate the total number of transitions from state i\n",
    "\n",
    "            for j in range(n):  # Iterate over each state to update their probabilities\n",
    "                if m[i][j] > 0:  # If there is a transition from state i to state j\n",
    "                    updated = True\n",
    "                    new_probabilities[j] += probabilities[i] * Fraction(m[i][j], num_transitions)  # Update the probability of state j\n",
    "\n",
    "        if not updated:  # If no probabilities were updated in this iteration, break the loop\n",
    "            break\n",
    "\n",
    "        probabilities = new_probabilities  # Update the probabilities for the next iteration\n",
    "\n",
    "    denominator = probabilities[0].denominator  # Get the denominator of the probability fraction for state 0\n",
    "\n",
    "    for i in range(n):\n",
    "        if i not in terminal_states:  # Skip terminal states\n",
    "            numerator = probabilities[i].numerator  # Get the numerator of the probability fraction for state i\n",
    "            lcm_val = lcm(numerator, denominator)  # Calculate the LCM of the numerator and denominator\n",
    "            probabilities[i] = Fraction(lcm_val // denominator)  # Simplify the fraction and update the probability\n",
    "\n",
    "    numerator_list = [probabilities[i].numerator for i in terminal_states]  # Get the numerators of the probabilities for the terminal states\n",
    "    numerator_list.append(denominator)  # Append the denominator at the end of the numerator list\n",
    "\n",
    "    return numerator_list  # Return the numerator list representing the probabilities of the terminal states"
   ]
  }
 ],
 "metadata": {
  "kernelspec": {
   "display_name": "Python 3 (ipykernel)",
   "language": "python",
   "name": "python3"
  },
  "language_info": {
   "codemirror_mode": {
    "name": "ipython",
    "version": 3
   },
   "file_extension": ".py",
   "mimetype": "text/x-python",
   "name": "python",
   "nbconvert_exporter": "python",
   "pygments_lexer": "ipython3",
   "version": "3.9.13"
  }
 },
 "nbformat": 4,
 "nbformat_minor": 5
}
