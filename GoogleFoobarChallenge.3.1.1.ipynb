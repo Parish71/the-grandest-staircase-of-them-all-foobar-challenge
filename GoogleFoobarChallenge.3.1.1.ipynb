{
 "cells": [
  {
   "cell_type": "code",
   "execution_count": 4,
   "id": "c6eccef0",
   "metadata": {},
   "outputs": [
    {
     "name": "stdout",
     "output_type": "stream",
     "text": [
      "Enter the area value: 12\n"
     ]
    },
    {
     "ename": "NameError",
     "evalue": "name 'result' is not defined",
     "output_type": "error",
     "traceback": [
      "\u001b[1;31m---------------------------------------------------------------------------\u001b[0m",
      "\u001b[1;31mNameError\u001b[0m                                 Traceback (most recent call last)",
      "\u001b[1;32m~\\AppData\\Local\\Temp\\ipykernel_7996\\3115334733.py\u001b[0m in \u001b[0;36m<module>\u001b[1;34m\u001b[0m\n\u001b[0;32m     34\u001b[0m \u001b[1;32mif\u001b[0m \u001b[0m__name__\u001b[0m \u001b[1;33m==\u001b[0m \u001b[1;34m\"__main__\"\u001b[0m\u001b[1;33m:\u001b[0m\u001b[1;33m\u001b[0m\u001b[1;33m\u001b[0m\u001b[0m\n\u001b[0;32m     35\u001b[0m     \u001b[0marea_input\u001b[0m \u001b[1;33m=\u001b[0m \u001b[0mint\u001b[0m\u001b[1;33m(\u001b[0m\u001b[0minput\u001b[0m\u001b[1;33m(\u001b[0m\u001b[1;34m\"Enter the area value: \"\u001b[0m\u001b[1;33m)\u001b[0m\u001b[1;33m)\u001b[0m\u001b[1;33m\u001b[0m\u001b[1;33m\u001b[0m\u001b[0m\n\u001b[1;32m---> 36\u001b[1;33m     \u001b[0mresult\u001b[0m \u001b[1;33m=\u001b[0m \u001b[0mresult\u001b[0m\u001b[1;33m.\u001b[0m\u001b[0mAnswer\u001b[0m\u001b[1;33m(\u001b[0m\u001b[0marea_input\u001b[0m\u001b[1;33m)\u001b[0m\u001b[1;33m\u001b[0m\u001b[1;33m\u001b[0m\u001b[0m\n\u001b[0m\u001b[0;32m     37\u001b[0m     \u001b[0mprint\u001b[0m\u001b[1;33m(\u001b[0m\u001b[1;34m\"Largest square numbers:\"\u001b[0m\u001b[1;33m,\u001b[0m \u001b[0mresult\u001b[0m\u001b[1;33m)\u001b[0m\u001b[1;33m\u001b[0m\u001b[1;33m\u001b[0m\u001b[0m\n",
      "\u001b[1;31mNameError\u001b[0m: name 'result' is not defined"
     ]
    }
   ],
   "source": [
    "class Answer:\n",
    "    @staticmethod\n",
    "    def maxSquare(number, start, end):\n",
    "        mid = (start + end) // 2\n",
    "        mid2 = mid * mid\n",
    "\n",
    "        if end - start == 1 or start - end == 1:\n",
    "            if (mid + 1) * (mid + 1) <= number:\n",
    "                return (mid + 1) * (mid + 1)\n",
    "            else:\n",
    "                return mid2\n",
    "        else:\n",
    "            if mid2 < number:\n",
    "                return Answer.maxSquare(number, mid, end)\n",
    "            elif mid2 > number:\n",
    "                return Answer.maxSquare(number, start, mid)\n",
    "            elif mid2 == number:\n",
    "                return mid2\n",
    "\n",
    "        return 0\n",
    "\n",
    "    @staticmethod\n",
    "    def solution(area):\n",
    "        result = []\n",
    "        while area > 0:\n",
    "            next_val = Answer.maxSquare(area, 1, 1000)\n",
    "            result.append(next_val)\n",
    "            area -= next_val\n",
    "        \n",
    "        return result\n",
    "\n",
    "\n",
    "# Test code\n",
    "if __name__ == \"__main__\":\n",
    "    area_input = int(input(\"Enter the area value: \"))\n",
    "    result = result.Answer(area_input)\n",
    "    print(\"Largest square numbers:\", result)"
   ]
  },
  {
   "cell_type": "code",
   "execution_count": null,
   "id": "a62a4425",
   "metadata": {},
   "outputs": [],
   "source": []
  }
 ],
 "metadata": {
  "kernelspec": {
   "display_name": "Python 3 (ipykernel)",
   "language": "python",
   "name": "python3"
  },
  "language_info": {
   "codemirror_mode": {
    "name": "ipython",
    "version": 3
   },
   "file_extension": ".py",
   "mimetype": "text/x-python",
   "name": "python",
   "nbconvert_exporter": "python",
   "pygments_lexer": "ipython3",
   "version": "3.9.13"
  }
 },
 "nbformat": 4,
 "nbformat_minor": 5
}
