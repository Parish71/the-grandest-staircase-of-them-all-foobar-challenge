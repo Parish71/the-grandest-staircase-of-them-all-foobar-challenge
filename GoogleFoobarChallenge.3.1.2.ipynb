{
 "cells": [
  {
   "cell_type": "code",
   "execution_count": null,
   "id": "eb6b458a",
   "metadata": {},
   "outputs": [],
   "source": [
    "from fractions import Fraction\n",
    "\n",
    "def solution(m):\n",
    "    n = len(m)\n",
    "    terminal_states = [i for i in range(n) if sum(m[i]) == 0]  # Find terminal states\n",
    "    probabilities = [Fraction(0) for _ in range(n)]  # Initialize probabilities\n",
    "    probabilities[0] = Fraction(1)  # Start in state 0\n",
    "    \n",
    "    while True:\n",
    "        updated = False\n",
    "        new_probabilities = probabilities[:]\n",
    "        \n",
    "        for i in range(n):\n",
    "            if i in terminal_states or probabilities[i] == 0:\n",
    "                continue\n",
    "            \n",
    "            num_transitions = sum(m[i])\n",
    "            \n",
    "            for j in range(n):\n",
    "                if m[i][j] > 0:\n",
    "                    updated = True\n",
    "                    new_probabilities[j] += probabilities[i] * Fraction(m[i][j], num_transitions)\n",
    "        \n",
    "        if not updated:\n",
    "            break\n",
    "        \n",
    "        probabilities = new_probabilities\n",
    "    \n",
    "    denominator = probabilities[0].denominator\n",
    "    numerator_list = [probabilities[i].numerator for i in terminal_states]\n",
    "    numerator_list.append(denominator)\n",
    "    \n",
    "    return numerator_list\n",
    "\n",
    "# Test Cases\n",
    "m1 = [[0, 2, 1, 0, 0], \n",
    "      [0, 0, 0, 3, 4], \n",
    "      [0, 0, 0, 0, 0], \n",
    "      [0, 0, 0, 0, 0], \n",
    "      [0, 0, 0, 0, 0]]\n",
    "output1 = solution(m1)\n",
    "expected_output1 = [7, 6, 8, 21]\n",
    "\n",
    "m2 = [[0, 1, 0, 0, 0, 1], \n",
    "      [4, 0, 0, 3, 2, 0], \n",
    "      [0, 0, 0, 0, 0, 0], \n",
    "      [0, 0, 0, 0, 0, 0], \n",
    "      [0, 0, 0, 0, 0, 0], \n",
    "      [0, 0, 0, 0, 0, 0]]\n",
    "output2 = solution(m2)\n",
    "expected_output2 = [0, 3, 2, 9, 14]\n",
    "\n",
    "print(f\"Output 1: {output1}\")\n",
    "print(f\"Expected Output 1: {expected_output1}\")\n",
    "print()\n",
    "print(f\"Output 2: {output2}\")\n",
    "print(f\"Expected Output 2: {expected_output2}\")\n"
   ]
  },
  {
   "cell_type": "code",
   "execution_count": null,
   "id": "e825f517",
   "metadata": {},
   "outputs": [],
   "source": []
  }
 ],
 "metadata": {
  "kernelspec": {
   "display_name": "Python 3 (ipykernel)",
   "language": "python",
   "name": "python3"
  },
  "language_info": {
   "codemirror_mode": {
    "name": "ipython",
    "version": 3
   },
   "file_extension": ".py",
   "mimetype": "text/x-python",
   "name": "python",
   "nbconvert_exporter": "python",
   "pygments_lexer": "ipython3",
   "version": "3.9.13"
  }
 },
 "nbformat": 4,
 "nbformat_minor": 5
}
